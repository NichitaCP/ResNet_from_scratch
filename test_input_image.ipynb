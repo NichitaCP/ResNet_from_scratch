{
 "cells": [
  {
   "cell_type": "code",
   "id": "initial_id",
   "metadata": {
    "collapsed": true,
    "ExecuteTime": {
     "end_time": "2024-08-13T22:54:04.436804Z",
     "start_time": "2024-08-13T22:53:59.853764Z"
    }
   },
   "source": [
    "import pandas as pd\n",
    "import torch\n",
    "from ResNet import res_net_101, res_net_50\n",
    "import os\n",
    "from torchvision.transforms import v2 as v2\n",
    "from PIL import Image"
   ],
   "outputs": [],
   "execution_count": 18
  },
  {
   "metadata": {
    "ExecuteTime": {
     "end_time": "2024-08-13T22:48:18.944432Z",
     "start_time": "2024-08-13T22:48:18.752975Z"
    }
   },
   "cell_type": "code",
   "source": [
    "net_50 = res_net_50(num_classes=7)\n",
    "net_50_lw = res_net_50(num_classes=7, block_input_layout=(32,64,128,256))\n",
    "net_101 = res_net_101(num_classes=7, block_input_layout=(32,64,128,256))"
   ],
   "id": "2ab198cd5a80c168",
   "outputs": [],
   "execution_count": 10
  },
  {
   "metadata": {
    "ExecuteTime": {
     "end_time": "2024-08-13T22:48:19.146800Z",
     "start_time": "2024-08-13T22:48:18.945426Z"
    }
   },
   "cell_type": "code",
   "source": [
    "net_101_path = os.path.join(os.getcwd(), \"models\", \"net_101_lw.pth\")\n",
    "net101_state_dict = torch.load(net_101_path, weights_only=False)"
   ],
   "id": "bbf3eb7ce56f179",
   "outputs": [],
   "execution_count": 11
  },
  {
   "metadata": {
    "ExecuteTime": {
     "end_time": "2024-08-13T22:48:24.269491Z",
     "start_time": "2024-08-13T22:48:24.225344Z"
    }
   },
   "cell_type": "code",
   "source": "net_101.load_state_dict(net101_state_dict)",
   "id": "db30e92d8727d9ff",
   "outputs": [
    {
     "data": {
      "text/plain": [
       "<All keys matched successfully>"
      ]
     },
     "execution_count": 13,
     "metadata": {},
     "output_type": "execute_result"
    }
   ],
   "execution_count": 13
  },
  {
   "metadata": {
    "ExecuteTime": {
     "end_time": "2024-08-13T22:48:44.595572Z",
     "start_time": "2024-08-13T22:48:44.590116Z"
    }
   },
   "cell_type": "code",
   "source": "net_101 = net_101.to(\"cuda\")",
   "id": "817a751dc5324da7",
   "outputs": [],
   "execution_count": 15
  },
  {
   "metadata": {
    "ExecuteTime": {
     "end_time": "2024-08-13T22:55:10.000080Z",
     "start_time": "2024-08-13T22:55:09.997103Z"
    }
   },
   "cell_type": "code",
   "source": [
    "test_transforms = v2.Compose([\n",
    "    v2.Resize(size=(196, 196)),\n",
    "    v2.ToImage(),\n",
    "    v2.ToDtype(torch.float32, scale=True)\n",
    "])"
   ],
   "id": "42823c1fdcd5f04e",
   "outputs": [],
   "execution_count": 20
  },
  {
   "metadata": {
    "ExecuteTime": {
     "end_time": "2024-08-13T23:06:29.904098Z",
     "start_time": "2024-08-13T23:06:29.891694Z"
    }
   },
   "cell_type": "code",
   "source": [
    "image_path = os.path.join(os.getcwd(), \"test_img\", \"image_4.jpg\")\n",
    "image = Image.open(image_path)\n",
    "image_tensor = test_transforms(image).unsqueeze(0).to(\"cuda\")"
   ],
   "id": "9e154e530914b3e3",
   "outputs": [],
   "execution_count": 36
  },
  {
   "metadata": {
    "ExecuteTime": {
     "end_time": "2024-08-13T23:06:32.748163Z",
     "start_time": "2024-08-13T23:06:32.745183Z"
    }
   },
   "cell_type": "code",
   "source": [
    "lesion_type_dict = {\n",
    "    'nv': 'Melanocytic nevi',\n",
    "    'mel': 'Melanoma',\n",
    "    'bkl': 'Benign keratosis-like lesions ',\n",
    "    'bcc': 'Basal cell carcinoma',\n",
    "    'akiec': 'Actinic keratoses',\n",
    "    'vasc': 'Vascular lesions',\n",
    "    'df': 'Dermatofibroma'\n",
    "}\n",
    "\n",
    "sc_classes = [cls for cls in lesion_type_dict.items()]"
   ],
   "id": "e1d83d4ce97aff4b",
   "outputs": [],
   "execution_count": 37
  },
  {
   "metadata": {
    "ExecuteTime": {
     "end_time": "2024-08-13T23:07:19.146150Z",
     "start_time": "2024-08-13T23:07:19.127303Z"
    }
   },
   "cell_type": "code",
   "source": [
    "net_101.eval()\n",
    "with torch.inference_mode():\n",
    "    logits = net_101(image_tensor) \n",
    "    probabilities = torch.softmax(logits, dim=1)\n",
    "    top3_probs, top3_idx = torch.topk(probabilities, 3, dim=1)\n",
    "\n",
    "\n",
    "top3_labels = [sc_classes[idx] for idx in top3_idx[0]]\n",
    "\n",
    "# Print the predicted label and probability\n",
    "for i in range(3):\n",
    "    print(f'Prediction {i+1}: {top3_labels[i][1]} with probability {top3_probs[0][i].item():.4f}')"
   ],
   "id": "a305da862baf2981",
   "outputs": [
    {
     "name": "stdout",
     "output_type": "stream",
     "text": [
      "Prediction 1: Actinic keratoses with probability 0.7978\n",
      "Prediction 2: Vascular lesions with probability 0.0885\n",
      "Prediction 3: Benign keratosis-like lesions  with probability 0.0492\n"
     ]
    }
   ],
   "execution_count": 39
  },
  {
   "metadata": {},
   "cell_type": "code",
   "outputs": [],
   "execution_count": null,
   "source": "",
   "id": "9233e772b0d88e33"
  }
 ],
 "metadata": {
  "kernelspec": {
   "display_name": "Python 3",
   "language": "python",
   "name": "python3"
  },
  "language_info": {
   "codemirror_mode": {
    "name": "ipython",
    "version": 2
   },
   "file_extension": ".py",
   "mimetype": "text/x-python",
   "name": "python",
   "nbconvert_exporter": "python",
   "pygments_lexer": "ipython2",
   "version": "2.7.6"
  }
 },
 "nbformat": 4,
 "nbformat_minor": 5
}
