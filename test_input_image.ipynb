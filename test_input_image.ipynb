{
 "cells": [
  {
   "cell_type": "code",
   "id": "initial_id",
   "metadata": {
    "collapsed": true,
    "ExecuteTime": {
     "end_time": "2024-08-21T13:02:44.185460Z",
     "start_time": "2024-08-21T13:02:38.032685Z"
    }
   },
   "source": [
    "import pandas as pd\n",
    "import torch\n",
    "from ResNet import res_net_101, res_net_50\n",
    "import os\n",
    "from torchvision.transforms import v2 as v2\n",
    "from PIL import Image"
   ],
   "outputs": [],
   "execution_count": 1
  },
  {
   "metadata": {
    "ExecuteTime": {
     "end_time": "2024-08-21T13:02:44.454758Z",
     "start_time": "2024-08-21T13:02:44.186422Z"
    }
   },
   "cell_type": "code",
   "source": [
    "net_50 = res_net_50(num_classes=7)\n",
    "net_50_lw = res_net_50(num_classes=7, block_input_layout=(32,64,128,256))\n",
    "net_101 = res_net_101(num_classes=7, block_input_layout=(32,64,128,256))"
   ],
   "id": "2ab198cd5a80c168",
   "outputs": [],
   "execution_count": 2
  },
  {
   "metadata": {
    "ExecuteTime": {
     "end_time": "2024-08-21T13:03:09.051314Z",
     "start_time": "2024-08-21T13:03:08.863332Z"
    }
   },
   "cell_type": "code",
   "source": [
    "net_101_path = os.path.join(os.getcwd(), \"models\", \"net_101_v5.pth\")\n",
    "net101_state_dict = torch.load(net_101_path, weights_only=False)"
   ],
   "id": "bbf3eb7ce56f179",
   "outputs": [],
   "execution_count": 4
  },
  {
   "metadata": {
    "ExecuteTime": {
     "end_time": "2024-08-21T13:03:12.558246Z",
     "start_time": "2024-08-21T13:03:12.530469Z"
    }
   },
   "cell_type": "code",
   "source": "net_101.load_state_dict(net101_state_dict)",
   "id": "db30e92d8727d9ff",
   "outputs": [
    {
     "data": {
      "text/plain": [
       "<All keys matched successfully>"
      ]
     },
     "execution_count": 5,
     "metadata": {},
     "output_type": "execute_result"
    }
   ],
   "execution_count": 5
  },
  {
   "metadata": {
    "ExecuteTime": {
     "end_time": "2024-08-21T13:03:16.055045Z",
     "start_time": "2024-08-21T13:03:16.016853Z"
    }
   },
   "cell_type": "code",
   "source": "net_101 = net_101.to(\"cuda\")",
   "id": "817a751dc5324da7",
   "outputs": [],
   "execution_count": 6
  },
  {
   "metadata": {
    "ExecuteTime": {
     "end_time": "2024-08-21T13:03:16.058517Z",
     "start_time": "2024-08-21T13:03:16.056037Z"
    }
   },
   "cell_type": "code",
   "source": [
    "test_transforms = v2.Compose([\n",
    "    v2.Resize(size=(196, 196)),\n",
    "    v2.ToImage(),\n",
    "    v2.ToDtype(torch.float32, scale=True)\n",
    "])"
   ],
   "id": "42823c1fdcd5f04e",
   "outputs": [],
   "execution_count": 7
  },
  {
   "metadata": {
    "ExecuteTime": {
     "end_time": "2024-08-21T13:03:16.087781Z",
     "start_time": "2024-08-21T13:03:16.059509Z"
    }
   },
   "cell_type": "code",
   "source": [
    "image_path = os.path.join(os.getcwd(), \"test_img\", \"image_4.jpg\")\n",
    "image = Image.open(image_path)\n",
    "image_tensor = test_transforms(image).unsqueeze(0).to(\"cuda\")"
   ],
   "id": "9e154e530914b3e3",
   "outputs": [],
   "execution_count": 8
  },
  {
   "metadata": {
    "ExecuteTime": {
     "end_time": "2024-08-21T13:03:16.091253Z",
     "start_time": "2024-08-21T13:03:16.088276Z"
    }
   },
   "cell_type": "code",
   "source": [
    "lesion_type_dict = {\n",
    "    'nv': 'Melanocytic nevi',\n",
    "    'mel': 'Melanoma',\n",
    "    'bkl': 'Benign keratosis-like lesions ',\n",
    "    'bcc': 'Basal cell carcinoma',\n",
    "    'akiec': 'Actinic keratoses',\n",
    "    'vasc': 'Vascular lesions',\n",
    "    'df': 'Dermatofibroma'\n",
    "}\n",
    "\n",
    "sc_classes = [cls for cls in lesion_type_dict.items()]"
   ],
   "id": "e1d83d4ce97aff4b",
   "outputs": [],
   "execution_count": 9
  },
  {
   "metadata": {
    "ExecuteTime": {
     "end_time": "2024-08-21T13:03:16.433795Z",
     "start_time": "2024-08-21T13:03:16.091748Z"
    }
   },
   "cell_type": "code",
   "source": [
    "net_101.eval()\n",
    "with torch.inference_mode():\n",
    "    logits = net_101(image_tensor) \n",
    "    probabilities = torch.softmax(logits, dim=1)\n",
    "    top3_probs, top3_idx = torch.topk(probabilities, 3, dim=1)\n",
    "\n",
    "\n",
    "top3_labels = [sc_classes[idx] for idx in top3_idx[0]]\n",
    "\n",
    "# Print the predicted label and probability\n",
    "for i in range(3):\n",
    "    print(f'Prediction {i+1}: {top3_labels[i][1]} with probability {top3_probs[0][i].item():.4f}')"
   ],
   "id": "a305da862baf2981",
   "outputs": [
    {
     "name": "stdout",
     "output_type": "stream",
     "text": [
      "Prediction 1: Actinic keratoses with probability 0.7260\n",
      "Prediction 2: Basal cell carcinoma with probability 0.0851\n",
      "Prediction 3: Benign keratosis-like lesions  with probability 0.0632\n"
     ]
    }
   ],
   "execution_count": 10
  }
 ],
 "metadata": {
  "kernelspec": {
   "display_name": "Python 3",
   "language": "python",
   "name": "python3"
  },
  "language_info": {
   "codemirror_mode": {
    "name": "ipython",
    "version": 2
   },
   "file_extension": ".py",
   "mimetype": "text/x-python",
   "name": "python",
   "nbconvert_exporter": "python",
   "pygments_lexer": "ipython2",
   "version": "2.7.6"
  }
 },
 "nbformat": 4,
 "nbformat_minor": 5
}
